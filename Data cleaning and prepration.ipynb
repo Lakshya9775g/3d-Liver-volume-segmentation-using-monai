{
 "cells": [
  {
   "cell_type": "code",
   "execution_count": null,
   "id": "396e9f5c",
   "metadata": {},
   "outputs": [
    {
     "ename": "",
     "evalue": "",
     "output_type": "error",
     "traceback": [
      "\u001b[1;31mRunning cells with 'Python 3.9.12 ('base')' requires ipykernel package.\n",
      "Run the following command to install 'ipykernel' into the Python environment. \n",
      "Command: 'conda install -n base ipykernel --update-deps --force-reinstall'"
     ]
    }
   ],
   "source": [
    "!pip install dicom2nifti\n",
    "!pip install monai\n"
   ]
  },
  {
   "cell_type": "code",
   "execution_count": null,
   "id": "4b1b79a8",
   "metadata": {},
   "outputs": [],
   "source": [
    "from glob import glob\n",
    "import shutil\n",
    "import os\n",
    "import dicom2nifti\n",
    "import nibabel as nib\n",
    "import numpy as np\n",
    "# from tqdm import tqdm\n",
    "\n",
    "from monai.transforms import(\n",
    "    Compose,\n",
    "    AddChanneld,\n",
    "    LoadImaged,\n",
    "    Resized,\n",
    "    ToTensord,\n",
    "    Spacingd,\n",
    "    Orientationd,\n",
    "    ScaleIntensityRanged,\n",
    "    CropForegroundd,\n",
    ")\n",
    "from monai.utils import first\n",
    "from monai.data import DataLoader, Dataset, CacheDataset\n",
    "from monai.utils import set_determinism\n",
    "from matplotlib import pyplot as plt"
   ]
  },
  {
   "cell_type": "code",
   "execution_count": null,
   "id": "b894e4af",
   "metadata": {},
   "outputs": [],
   "source": [
    "Number_slices = 65;\n",
    "\n",
    "#Function to create groups of 65 dcom files to divide every paitent with unique no.\n",
    "def create_group(input_path,output_path):\n",
    "    for patient in glob(input_path + '/*'):\n",
    "            patient_name = os.path.basename(os.path.normpath(patient))\n",
    "\n",
    "            # Here we need to calculate the number of folders which mean into how many groups we will divide the number of slices\n",
    "            number_folders = int(len(glob(patient + '/*')) / Number_slices)\n",
    "\n",
    "            for i in range(number_folders):\n",
    "                output_path_name = os.path.join(output_path, patient_name + '_' + str(i))\n",
    "                os.mkdir(output_path_name)\n",
    "\n",
    "                # Move the slices into a specific folder so that you will save memory in your desk\n",
    "                for i, file in enumerate(glob(patient + '/*')):\n",
    "                    if i == Number_slices + 1:\n",
    "                        break\n",
    "\n",
    "                    shutil.move(file, output_path_name)"
   ]
  },
  {
   "cell_type": "code",
   "execution_count": null,
   "id": "2765e0c2",
   "metadata": {},
   "outputs": [],
   "source": [
    "#Grouping labels into bundle of 65.\n",
    "\n",
    "input_path = 'D:\\Task03_Liver\\decom_files\\labels'\n",
    "output_path = 'D:\\Task03_Liver\\decom_groups\\lebels'\n",
    "\n",
    "create_group(input_path, output_path)\n",
    "\n",
    "#grouping images into bundle of 65.\n",
    "\n",
    "input_path_images = 'D:\\Task03_Liver\\decom_files\\images'\n",
    "output_path_images = 'D:\\Task03_Liver\\decom_groups\\images'\n",
    "\n",
    "create_group(input_path_images,output_path_images)"
   ]
  },
  {
   "cell_type": "code",
   "execution_count": null,
   "id": "9fd8786c",
   "metadata": {},
   "outputs": [],
   "source": [
    "#Converting groups of decoms files into Nifti files. \n",
    "def dcm2nifti(in_dir, out_dir):\n",
    "    '''\n",
    "    This function will be used to convert dicoms into nifti files after creating the groups with \n",
    "    the number of slices that you want.\n",
    "    `in_dir`: the path to the folder where you have all the patients (folder of all the groups).\n",
    "    `out_dir`: the path to the output, which means where you want to save the converted nifties.\n",
    "    '''\n",
    "    list = glob(in_dir)\n",
    "    for folder in list:\n",
    "        patient_name = os.path.basename(os.path.normpath(folder))\n",
    "        dicom2nifti.dicom_series_to_nifti(folder, os.path.join(out_dir, patient_name + '.nii.gz'))\n"
   ]
  },
  {
   "cell_type": "code",
   "execution_count": null,
   "id": "c8205bba",
   "metadata": {},
   "outputs": [],
   "source": [
    "in_path_img = 'D:/Task03_Liver/decom_groups/images/*'\n",
    "in_path_labels = 'D:/Task03_Liver/decom_groups/labels/*'\n",
    "\n",
    "out_path_img = 'D:/Task03_Liver/nifti_files/images'\n",
    "out_path_labels = 'D:/Task03_Liver/nifti_files/labels'\n",
    "\n",
    "dcm2nifti(in_path_img,out_path_img) #for images\n",
    "dcm2nifti(in_path_labels,out_path_labels)"
   ]
  },
  {
   "cell_type": "code",
   "execution_count": null,
   "id": "82f3f804",
   "metadata": {},
   "outputs": [],
   "source": [
    "#Function to find if their an empty files in the dataset.\n",
    "\n",
    "\n",
    "def find_empy(in_dir):\n",
    "    '''\n",
    "    This function will help you to find the empty volumes that you may not need for your training\n",
    "    so instead of opening all the files and search for the empty ones, them use this function to make it quick.\n",
    "    '''\n",
    "    \n",
    "    list_patients = []\n",
    "    for patient in glob(os.path.join(in_dir, '*')):\n",
    "        img = nib.load(patient)\n",
    "\n",
    "        if len(np.unique(img.get_fdata())) ==1 :\n",
    "            print(os.path.basename(os.path.normpath(patient)))\n",
    "            list_patients.append(os.path.basename(os.path.normpath(patient)))\n",
    "    \n",
    "    return list_patients"
   ]
  },
  {
   "cell_type": "code",
   "execution_count": null,
   "id": "d0351677",
   "metadata": {},
   "outputs": [],
   "source": [
    "in_path = 'D:/Task03_Liver/nifti_files/labels/'\n",
    "list_paitents = find_empy(in_path)\n",
    "# list_paitents"
   ]
  },
  {
   "cell_type": "code",
   "execution_count": null,
   "id": "3bb14f8b",
   "metadata": {},
   "outputs": [],
   "source": []
  },
  {
   "cell_type": "code",
   "execution_count": null,
   "id": "970dc021",
   "metadata": {},
   "outputs": [],
   "source": []
  },
  {
   "cell_type": "code",
   "execution_count": null,
   "id": "e645e4b3",
   "metadata": {},
   "outputs": [],
   "source": []
  },
  {
   "cell_type": "code",
   "execution_count": null,
   "id": "4ee30ffd",
   "metadata": {},
   "outputs": [],
   "source": []
  },
  {
   "cell_type": "code",
   "execution_count": null,
   "id": "c765466f",
   "metadata": {},
   "outputs": [],
   "source": []
  }
 ],
 "metadata": {
  "kernelspec": {
   "display_name": "Python 3.9.12 ('base')",
   "language": "python",
   "name": "python3"
  },
  "language_info": {
   "codemirror_mode": {
    "name": "ipython",
    "version": 3
   },
   "file_extension": ".py",
   "mimetype": "text/x-python",
   "name": "python",
   "nbconvert_exporter": "python",
   "pygments_lexer": "ipython3",
   "version": "3.9.12"
  },
  "vscode": {
   "interpreter": {
    "hash": "ad2bdc8ecc057115af97d19610ffacc2b4e99fae6737bb82f5d7fb13d2f2c186"
   }
  }
 },
 "nbformat": 4,
 "nbformat_minor": 5
}
