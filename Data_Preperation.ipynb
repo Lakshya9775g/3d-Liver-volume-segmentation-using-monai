{
  "cells": [
    {
      "cell_type": "code",
      "execution_count": null,
      "metadata": {
        "colab": {
          "base_uri": "https://localhost:8080/"
        },
        "id": "93_pYY9eFAY-",
        "outputId": "3ed17c82-65ff-422e-a5d6-5b255ae45b8e"
      },
      "outputs": [
        {
          "name": "stdout",
          "output_type": "stream",
          "text": [
            "Looking in indexes: https://pypi.org/simple, https://us-python.pkg.dev/colab-wheels/public/simple/\n",
            "Collecting dicom2nifti\n",
            "  Downloading dicom2nifti-2.4.3-py3-none-any.whl (43 kB)\n",
            "\u001b[K     |████████████████████████████████| 43 kB 938 kB/s \n",
            "\u001b[?25hRequirement already satisfied: numpy in /usr/local/lib/python3.7/dist-packages (from dicom2nifti) (1.21.6)\n",
            "Collecting pydicom>=2.2.0\n",
            "  Downloading pydicom-2.3.0-py3-none-any.whl (2.0 MB)\n",
            "\u001b[K     |████████████████████████████████| 2.0 MB 9.0 MB/s \n",
            "\u001b[?25hRequirement already satisfied: scipy in /usr/local/lib/python3.7/dist-packages (from dicom2nifti) (1.7.3)\n",
            "Collecting python-gdcm\n",
            "  Downloading python_gdcm-3.0.14-cp37-cp37m-manylinux_2_17_x86_64.manylinux2014_x86_64.whl (12.8 MB)\n",
            "\u001b[K     |████████████████████████████████| 12.8 MB 22.3 MB/s \n",
            "\u001b[?25hRequirement already satisfied: nibabel in /usr/local/lib/python3.7/dist-packages (from dicom2nifti) (3.0.2)\n",
            "Installing collected packages: python-gdcm, pydicom, dicom2nifti\n",
            "Successfully installed dicom2nifti-2.4.3 pydicom-2.3.0 python-gdcm-3.0.14\n",
            "Looking in indexes: https://pypi.org/simple, https://us-python.pkg.dev/colab-wheels/public/simple/\n",
            "Collecting monai\n",
            "  Downloading monai-0.9.1-202207251608-py3-none-any.whl (990 kB)\n",
            "\u001b[K     |████████████████████████████████| 990 kB 5.1 MB/s \n",
            "\u001b[?25hRequirement already satisfied: numpy>=1.17 in /usr/local/lib/python3.7/dist-packages (from monai) (1.21.6)\n",
            "Requirement already satisfied: torch>=1.7 in /usr/local/lib/python3.7/dist-packages (from monai) (1.12.0+cu113)\n",
            "Requirement already satisfied: typing-extensions in /usr/local/lib/python3.7/dist-packages (from torch>=1.7->monai) (4.1.1)\n",
            "Installing collected packages: monai\n",
            "Successfully installed monai-0.9.1\n"
          ]
        }
      ],
      "source": [
        "!pip install dicom2nifti\n",
        "\n"
      ]
    },
    {
      "cell_type": "code",
      "execution_count": null,
      "metadata": {
        "id": "XbIx9MkQGJms"
      },
      "outputs": [],
      "source": [
        "import os\n",
        "import numpy as np\n",
        "from glob import glob\n",
        "import shutil\n",
        "import dicom2nifti\n",
        "from tqdm import tqdm\n",
        "import nibabel as nib\n"
      ]
    },
    {
      "cell_type": "code",
      "execution_count": null,
      "metadata": {
        "id": "_EG8veAQGO37"
      },
      "outputs": [],
      "source": [
        "\n",
        "#Function to create groups of 65 dcom files to divide every paitent with unique no.\n",
        "def make_group(in_path,out_path):\n",
        "    for patient in glob(in_path + '/*'):\n",
        "            patient_name = os.path.basename(os.path.normpath(patient))\n",
        "\n",
        "            number_folders = int(len(glob(patient + '/*')) / 65)\n",
        "\n",
        "            for i in range(number_folders):\n",
        "                out_path_name = os.path.join(out_path, patient_name + '_' + str(i))\n",
        "                os.mkdir(out_path_name)\n",
        "\n",
        "                \n",
        "                for i, file in enumerate(glob(patient + '/*')):\n",
        "                    if i == Number_slices + 1:\n",
        "                        break\n",
        "\n",
        "                    shutil.move(file, out_path_name)"
      ]
    },
    {
      "cell_type": "code",
      "execution_count": null,
      "metadata": {
        "id": "PtSh5ee0GQNy"
      },
      "outputs": [],
      "source": [
        "#Grouping labels into bundle of 65.\n",
        "\n",
        "in_path = '/content/drive/MyDrive/Dataset/decom_files/labels'\n",
        "out_path = '/content/drive/MyDrive/Dataset/Data_Train_Test/TrainSegmentation'\n",
        "\n",
        "make_group(in_path, out_path)\n",
        "\n",
        "#grouping images into bundle of 65.\n",
        "\n",
        "in_path_images = '/content/drive/MyDrive/Dataset/decom_files/images'\n",
        "out_path_images = '/content/drive/MyDrive/Dataset/Data_Train_Test/TrainVolumes'\n",
        "\n",
        "make_group(in_path_images,out_path_images)"
      ]
    },
    {
      "cell_type": "code",
      "execution_count": null,
      "metadata": {
        "id": "VJiPmuGzGQor"
      },
      "outputs": [],
      "source": [
        "#Converting groups of decoms files into Nifti files. \n",
        "def dicom_to_nifti(in_dir, out_dir):\n",
        "    \n",
        "    list = glob(in_dir)\n",
        "    for folder in list:\n",
        "        patient_name = os.path.basename(os.path.normpath(folder))\n",
        "        fileName = os.path.join(out_dir, patient_name + '.nii.gz')\n",
        "        dicom2nifti.dicom_series_to_nifti(folder, fileName)\n"
      ]
    },
    {
      "cell_type": "code",
      "execution_count": null,
      "metadata": {
        "id": "ZFAbgC9fKzhL"
      },
      "outputs": [],
      "source": [
        "# dicom2nifti.settings.disable_validate_slice_increment()"
      ]
    },
    {
      "cell_type": "code",
      "execution_count": null,
      "metadata": {
        "id": "t4BYq1amGQwK"
      },
      "outputs": [],
      "source": [
        "in_path_img = '/content/drive/MyDrive/Dataset/decom_groups/images/*'\n",
        "in_path_labels = '/content/drive/MyDrive/Dataset/decom_groups/labels/*'\n",
        "\n",
        "out_path_img = '/content/drive/MyDrive/Dataset/Data_Train_Test/TrainVolumes'\n",
        "out_path_labels = '/content/drive/MyDrive/Dataset/Data_Train_Test/TrainSegmentation'\n",
        "\n",
        "# dicom_to_nifti(in_path_img,out_path_img) #for images\n",
        "dicom_to_nifti(in_path_labels,out_path_labels) #for mask or segments."
      ]
    },
    {
      "cell_type": "code",
      "execution_count": null,
      "metadata": {
        "colab": {
          "base_uri": "https://localhost:8080/"
        },
        "id": "FQAu0gFzy9op",
        "outputId": "32fc4ad1-18b4-4b2a-93be-2349c993cd97"
      },
      "outputs": [
        {
          "name": "stdout",
          "output_type": "stream",
          "text": [
            "Drive already mounted at /content/drive; to attempt to forcibly remount, call drive.mount(\"/content/drive\", force_remount=True).\n"
          ]
        }
      ],
      "source": [
        "# from google.colab import drive\n",
        "# drive.mount('/content/drive')"
      ]
    },
    {
      "cell_type": "code",
      "execution_count": null,
      "metadata": {
        "id": "Y6j6mo4PGQ4Z"
      },
      "outputs": [],
      "source": [
        "#Function to find if their an empty files in the dataset.\n",
        "\n",
        "\n",
        "def empty_mask(in_dir):\n",
        "        \n",
        "    list_patients = []\n",
        "    for patient in glob(os.path.join(in_dir, '*')):\n",
        "        img = nib.load(patient)\n",
        "\n",
        "        if len(np.unique(img.get_fdata())) ==1 :\n",
        "            print(os.path.basename(os.path.normpath(patient)))\n",
        "            list_patients.append(os.path.basename(os.path.normpath(patient)))\n",
        "    \n",
        "    return list_patients"
      ]
    },
    {
      "cell_type": "code",
      "execution_count": null,
      "metadata": {
        "colab": {
          "base_uri": "https://localhost:8080/"
        },
        "id": "mxkegVErGQ-C",
        "outputId": "ba01d586-fb4a-4a78-9615-2e39b7aa9259"
      },
      "outputs": [],
      "source": [
        "in_path = '/content/drive/MyDrive/Dataset/Data_Train_Test/TrainSegmentation/'\n",
        "list_paitents = empty_mask(in_path)"
      ]
    },
    {
      "cell_type": "code",
      "execution_count": null,
      "metadata": {
        "id": "TVXEfWcfGREK"
      },
      "outputs": [],
      "source": []
    }
  ],
  "metadata": {
    "accelerator": "GPU",
    "colab": {
      "name": "Data_Preperation.ipynb",
      "provenance": []
    },
    "gpuClass": "standard",
    "kernelspec": {
      "display_name": "Python 3",
      "name": "python3"
    },
    "language_info": {
      "name": "python"
    }
  },
  "nbformat": 4,
  "nbformat_minor": 0
}
